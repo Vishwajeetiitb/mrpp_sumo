{
 "cells": [
  {
   "cell_type": "code",
   "execution_count": 2,
   "metadata": {},
   "outputs": [],
   "source": [
    "import numpy as np\n",
    "from shapely.geometry import Polygon\n",
    "import rospkg\n",
    "import pickle\n",
    "import plotly.graph_objects as go\n",
    "from shapely.geometry import Polygon\n",
    "import numpy as np\n",
    "\n",
    "def create_grid(poly, grid_size):\n",
    "    xmin, ymin, xmax, ymax = poly.bounds\n",
    "    xcoords = np.arange(xmin, xmax+grid_size, grid_size)\n",
    "    ycoords = np.arange(ymin, ymax+grid_size, grid_size)\n",
    "    cells = []\n",
    "    for x in range(len(xcoords)-1):\n",
    "        for y in range(len(ycoords)-1):\n",
    "            cell_poly = Polygon([(xcoords[x], ycoords[y]), \n",
    "                                 (xcoords[x+1], ycoords[y]), \n",
    "                                 (xcoords[x+1], ycoords[y+1]), \n",
    "                                 (xcoords[x], ycoords[y+1])])\n",
    "            if poly.intersects(cell_poly):\n",
    "                cells.append(cell_poly)\n",
    "    return cells\n",
    "\n",
    "\n",
    "def get_initial_pose_list(hull,communication_range):\n",
    "    grid_size = communication_range\n",
    "    cells = create_grid(hull, grid_size)\n",
    "    fully_contained_cells = []\n",
    "    for cell in cells:\n",
    "        if cell.within(hull):\n",
    "            fully_contained_cells.append(cell)\n",
    "\n",
    "    partially_contained_cells = []\n",
    "    for cell in cells:\n",
    "        intersection = cell.intersection(hull)\n",
    "        if intersection.area > 0 and not cell.within(hull):\n",
    "            partially_contained_cells.append(intersection)\n",
    "\n",
    "    contained_cells = fully_contained_cells + partially_contained_cells\n",
    "    centroids = []\n",
    "    areas = np.array([])\n",
    "    for cell in contained_cells:\n",
    "        \n",
    "        if cell.geom_type ==\"MultiPolygon\":\n",
    "            for geom in cell.geoms:\n",
    "                if hull.contains(geom.centroid):\n",
    "                    areas = np.append(areas,geom.area)\n",
    "                    centroids.append(geom.centroid)               \n",
    "        else:\n",
    "            if hull.contains(cell.centroid):\n",
    "                areas = np.append(areas,cell.area)\n",
    "                centroids.append(cell.centroid)\n",
    "\n",
    "    decreasing_indices = np.argsort(areas)[::-1]\n",
    "    sorted_cords = [[centroids[i].x,centroids[i].y] for i in decreasing_indices]\n",
    "    return sorted_cords\n",
    "\n"
   ]
  },
  {
   "cell_type": "code",
   "execution_count": 7,
   "metadata": {},
   "outputs": [
    {
     "data": {
      "text/plain": [
       "[[-545.6536017104518, -544.5320169473998],\n",
       " [254.34639828954823, -944.5320169473998],\n",
       " [654.3463982895482, 255.46798305260018],\n",
       " [454.34639828954823, 55.467983052600175],\n",
       " [454.34639828954823, -144.53201694739982],\n",
       " [454.34639828954823, -344.5320169473998],\n",
       " [454.34639828954823, -544.5320169473998],\n",
       " [454.34639828954823, -744.5320169473998],\n",
       " [454.34639828954823, -944.5320169473998],\n",
       " [254.34639828954823, -144.53201694739982],\n",
       " [254.34639828954823, -344.5320169473998],\n",
       " [254.34639828954823, -744.5320169473998],\n",
       " [254.34639828954823, -544.5320169473998],\n",
       " [54.34639828954823, -344.5320169473998],\n",
       " [54.34639828954823, -744.5320169473998],\n",
       " [-345.65360171045177, -544.5320169473998],\n",
       " [-345.65360171045177, -344.5320169473998],\n",
       " [-145.65360171045177, -544.5320169473998],\n",
       " [-145.65360171045177, -344.5320169473998],\n",
       " [854.3463982895482, 655.4679830526002]]"
      ]
     },
     "execution_count": 7,
     "metadata": {},
     "output_type": "execute_result"
    }
   ],
   "source": [
    "\n",
    "\n",
    "dirname = rospkg.RosPack().get_path('mrpp_sumo')\n",
    "graph_name = 'iit_madras'\n",
    "hull_path = dirname+'/graph_ml/'+graph_name+'_hull'\n",
    "with open(hull_path, \"rb\") as poly_file:\n",
    "    iitb_hull = pickle.load(poly_file)\n",
    "get_initial_pose_list(iitb_hull,200)[0:20]"
   ]
  },
  {
   "cell_type": "code",
   "execution_count": null,
   "metadata": {},
   "outputs": [],
   "source": []
  }
 ],
 "metadata": {
  "kernelspec": {
   "display_name": "Python 3",
   "language": "python",
   "name": "python3"
  },
  "language_info": {
   "codemirror_mode": {
    "name": "ipython",
    "version": 3
   },
   "file_extension": ".py",
   "mimetype": "text/x-python",
   "name": "python",
   "nbconvert_exporter": "python",
   "pygments_lexer": "ipython3",
   "version": "3.8.10"
  },
  "orig_nbformat": 4,
  "vscode": {
   "interpreter": {
    "hash": "916dbcbb3f70747c44a77c7bcd40155683ae19c65e1c03b4aa3499c5328201f1"
   }
  }
 },
 "nbformat": 4,
 "nbformat_minor": 2
}
